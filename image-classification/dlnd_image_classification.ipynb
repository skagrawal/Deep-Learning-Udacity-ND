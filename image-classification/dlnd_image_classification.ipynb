{
 "cells": [
  {
   "cell_type": "markdown",
   "metadata": {
    "collapsed": true
   },
   "source": [
    "# Image Classification\n",
    "In this project, you'll classify images from the [CIFAR-10 dataset](https://www.cs.toronto.edu/~kriz/cifar.html).  The dataset consists of airplanes, dogs, cats, and other objects. You'll preprocess the images, then train a convolutional neural network on all the samples. The images need to be normalized and the labels need to be one-hot encoded.  You'll get to apply what you learned and build a convolutional, max pooling, dropout, and fully connected layers.  At the end, you'll get to see your neural network's predictions on the sample images.\n",
    "## Get the Data\n",
    "Run the following cell to download the [CIFAR-10 dataset for python](https://www.cs.toronto.edu/~kriz/cifar-10-python.tar.gz)."
   ]
  },
  {
   "cell_type": "code",
   "execution_count": 1,
   "metadata": {},
   "outputs": [
    {
     "name": "stdout",
     "output_type": "stream",
     "text": [
      "All files found!\n"
     ]
    }
   ],
   "source": [
    "\"\"\"\n",
    "DON'T MODIFY ANYTHING IN THIS CELL THAT IS BELOW THIS LINE\n",
    "\"\"\"\n",
    "from urllib.request import urlretrieve\n",
    "from os.path import isfile, isdir\n",
    "from tqdm import tqdm\n",
    "import problem_unittests as tests\n",
    "import tarfile\n",
    "\n",
    "cifar10_dataset_folder_path = 'cifar-10-batches-py'\n",
    "\n",
    "# Use Floyd's cifar-10 dataset if present\n",
    "floyd_cifar10_location = '/input/cifar-10/python.tar.gz'\n",
    "if isfile(floyd_cifar10_location):\n",
    "    tar_gz_path = floyd_cifar10_location\n",
    "else:\n",
    "    tar_gz_path = 'cifar-10-python.tar.gz'\n",
    "\n",
    "class DLProgress(tqdm):\n",
    "    last_block = 0\n",
    "\n",
    "    def hook(self, block_num=1, block_size=1, total_size=None):\n",
    "        self.total = total_size\n",
    "        self.update((block_num - self.last_block) * block_size)\n",
    "        self.last_block = block_num\n",
    "\n",
    "if not isfile(tar_gz_path):\n",
    "    with DLProgress(unit='B', unit_scale=True, miniters=1, desc='CIFAR-10 Dataset') as pbar:\n",
    "        urlretrieve(\n",
    "            'https://www.cs.toronto.edu/~kriz/cifar-10-python.tar.gz',\n",
    "            tar_gz_path,\n",
    "            pbar.hook)\n",
    "\n",
    "if not isdir(cifar10_dataset_folder_path):\n",
    "    with tarfile.open(tar_gz_path) as tar:\n",
    "        tar.extractall()\n",
    "        tar.close()\n",
    "\n",
    "\n",
    "tests.test_folder_path(cifar10_dataset_folder_path)"
   ]
  },
  {
   "cell_type": "markdown",
   "metadata": {},
   "source": [
    "## Explore the Data\n",
    "The dataset is broken into batches to prevent your machine from running out of memory.  The CIFAR-10 dataset consists of 5 batches, named `data_batch_1`, `data_batch_2`, etc.. Each batch contains the labels and images that are one of the following:\n",
    "* airplane\n",
    "* automobile\n",
    "* bird\n",
    "* cat\n",
    "* deer\n",
    "* dog\n",
    "* frog\n",
    "* horse\n",
    "* ship\n",
    "* truck\n",
    "\n",
    "Understanding a dataset is part of making predictions on the data.  Play around with the code cell below by changing the `batch_id` and `sample_id`. The `batch_id` is the id for a batch (1-5). The `sample_id` is the id for a image and label pair in the batch.\n",
    "\n",
    "Ask yourself \"What are all possible labels?\", \"What is the range of values for the image data?\", \"Are the labels in order or random?\".  Answers to questions like these will help you preprocess the data and end up with better predictions."
   ]
  },
  {
   "cell_type": "code",
   "execution_count": 2,
   "metadata": {},
   "outputs": [
    {
     "name": "stdout",
     "output_type": "stream",
     "text": [
      "\n",
      "Stats of batch 4:\n",
      "Samples: 10000\n",
      "Label Counts: {0: 1003, 1: 963, 2: 1041, 3: 976, 4: 1004, 5: 1021, 6: 1004, 7: 981, 8: 1024, 9: 983}\n",
      "First 20 Labels: [0, 6, 0, 2, 7, 2, 1, 2, 4, 1, 5, 6, 6, 3, 1, 3, 5, 5, 8, 1]\n",
      "\n",
      "Example of Image 829:\n",
      "Image - Min Value: 17 Max Value: 252\n",
      "Image - Shape: (32, 32, 3)\n",
      "Label - Label Id: 0 Name: airplane\n"
     ]
    },
    {
     "data": {
      "image/png": "[encoded data removed]",
      "text/plain": [
       "<matplotlib.figure.Figure at 0x11d1d4e10>"
      ]
     },
     "metadata": {
      "image/png": {
       "height": 250,
       "width": 253
      }
     },
     "output_type": "display_data"
    }
   ],
   "source": [
    "%matplotlib inline\n",
    "%config InlineBackend.figure_format = 'retina'\n",
    "import random\n",
    "import helper\n",
    "import numpy as np\n",
    "\n",
    "# Explore the dataset\n",
    "batch_id = random.randint(1,5)\n",
    "sample_id = random.randint(0,10000)\n",
    "helper.display_stats(cifar10_dataset_folder_path, batch_id, sample_id)"
   ]
  },
  {
   "cell_type": "markdown",
   "metadata": {},
   "source": [
    "## Implement Preprocess Functions\n",
    "### Normalize\n",
    "In the cell below, implement the `normalize` function to take in image data, `x`, and return it as a normalized Numpy array. The values should be in the range of 0 to 1, inclusive.  The return object should be the same shape as `x`."
   ]
  },
  {
   "cell_type": "code",
   "execution_count": 3,
   "metadata": {},
   "outputs": [
    {
     "name": "stdout",
     "output_type": "stream",
     "text": [
      "Tests Passed\n"
     ]
    }
   ],
   "source": [
    "def normalize(x):\n",
    "    \"\"\"\n",
    "    Normalize a list of sample image data in the range of 0 to 1\n",
    "    : x: List of image data.  The image shape is (32, 32, 3)\n",
    "    : return: Numpy array of normalize data\n",
    "    \"\"\"\n",
    "    # TODO: Implement Function\n",
    "    old_min = x.min()\n",
    "    old_range = x.max() - old_min\n",
    "    new_min = 0\n",
    "    new_range = 1 - new_min\n",
    "    scale = (x - old_min)/old_range\n",
    "    new_x = (new_range* scale) + new_min\n",
    "    return new_x\n",
    "\n",
    "\n",
    "\"\"\"\n",
    "DON'T MODIFY ANYTHING IN THIS CELL THAT IS BELOW THIS LINE\n",
    "\"\"\"\n",
    "tests.test_normalize(normalize)"
   ]
  },
  {
   "cell_type": "markdown",
   "metadata": {},
   "source": [
    "### One-hot encode\n",
    "Just like the previous code cell, you'll be implementing a function for preprocessing.  This time, you'll implement the `one_hot_encode` function. The input, `x`, are a list of labels.  Implement the function to return the list of labels as One-Hot encoded Numpy array.  The possible values for labels are 0 to 9. The one-hot encoding function should return the same encoding for each value between each call to `one_hot_encode`.  Make sure to save the map of encodings outside the function.\n",
    "\n",
    "Hint: Don't reinvent the wheel."
   ]
  },
  {
   "cell_type": "code",
   "execution_count": 4,
   "metadata": {},
   "outputs": [
    {
     "name": "stdout",
     "output_type": "stream",
     "text": [
      "619\n",
      "5\n",
      "Tests Passed\n"
     ]
    }
   ],
   "source": [
    "import numpy as np\n",
    "from sklearn.preprocessing import OneHotEncoder\n",
    "enc = OneHotEncoder()\n",
    "all_val = list(range(0, 10))\n",
    "\n",
    "enc.fit(np.array(all_val).reshape(-1,1))\n",
    "def one_hot_encode(x):\n",
    "    print(len(x))\n",
    "    \"\"\"\n",
    "    One hot encode a list of sample labels. Return a one-hot encoded vector for each label.\n",
    "    : x: List of sample Labels\n",
    "    : return: Numpy array of one-hot encoded labels\n",
    "    \"\"\"\n",
    "    # TODO: Implement Function\n",
    "    ret_list = []\n",
    "    for label in x:\n",
    "        ret_list.append(enc.transform(label).toarray()[0])\n",
    "    return np.array(ret_list)\n",
    "\n",
    "\n",
    "\"\"\"\n",
    "DON'T MODIFY ANYTHING IN THIS CELL THAT IS BELOW THIS LINE\n",
    "\"\"\"\n",
    "tests.test_one_hot_encode(one_hot_encode)"
   ]
  },
  {
   "cell_type": "markdown",
   "metadata": {},
   "source": [
    "### Randomize Data\n",
    "As you saw from exploring the data above, the order of the samples are randomized.  It doesn't hurt to randomize it again, but you don't need to for this dataset."
   ]
  },
  {
   "cell_type": "markdown",
   "metadata": {},
   "source": [
    "## Preprocess all the data and save it\n",
    "Running the code cell below will preprocess all the CIFAR-10 data and save it to file. The code below also uses 10% of the training data for validation."
   ]
  },
  {
   "cell_type": "code",
   "execution_count": 5,
   "metadata": {},
   "outputs": [
    {
     "name": "stdout",
     "output_type": "stream",
     "text": [
      "9000\n",
      "9000\n",
      "9000\n",
      "9000\n",
      "9000\n",
      "5000\n",
      "10000\n"
     ]
    }
   ],
   "source": [
    "\"\"\"\n",
    "DON'T MODIFY ANYTHING IN THIS CELL\n",
    "\"\"\"\n",
    "# Preprocess Training, Validation, and Testing Data\n",
    "helper.preprocess_and_save_data(cifar10_dataset_folder_path, normalize, one_hot_encode)"
   ]
  },
  {
   "cell_type": "markdown",
   "metadata": {},
   "source": [
    "# Check Point\n",
    "This is your first checkpoint.  If you ever decide to come back to this notebook or have to restart the notebook, you can start from here.  The preprocessed data has been saved to disk."
   ]
  },
  {
   "cell_type": "code",
   "execution_count": 6,
   "metadata": {},
   "outputs": [],
   "source": [
    "\"\"\"\n",
    "DON'T MODIFY ANYTHING IN THIS CELL\n",
    "\"\"\"\n",
    "import pickle\n",
    "import problem_unittests as tests\n",
    "import helper\n",
    "\n",
    "# Load the Preprocessed Validation data\n",
    "valid_features, valid_labels = pickle.load(open('preprocess_validation.p', mode='rb'))\n",
    "# print(valid_features)\n",
    "# print(valid_labels)"
   ]
  },
  {
   "cell_type": "markdown",
   "metadata": {},
   "source": [
    "## Build the network\n",
    "For the neural network, you'll build each layer into a function.  Most of the code you've seen has been outside of functions. To test your code more thoroughly, we require that you put each layer in a function.  This allows us to give you better feedback and test for simple mistakes using our unittests before you submit your project.\n",
    "\n",
    ">**Note:** If you're finding it hard to dedicate enough time for this course each week, we've provided a small shortcut to this part of the project. In the next couple of problems, you'll have the option to use classes from the [TensorFlow Layers](https://www.tensorflow.org/api_docs/python/tf/layers) or [TensorFlow Layers (contrib)](https://www.tensorflow.org/api_guides/python/contrib.layers) packages to build each layer, except the layers you build in the \"Convolutional and Max Pooling Layer\" section.  TF Layers is similar to Keras's and TFLearn's abstraction to layers, so it's easy to pickup.\n",
    "\n",
    ">However, if you would like to get the most out of this course, try to solve all the problems _without_ using anything from the TF Layers packages. You **can** still use classes from other packages that happen to have the same name as ones you find in TF Layers! For example, instead of using the TF Layers version of the `conv2d` class, [tf.layers.conv2d](https://www.tensorflow.org/api_docs/python/tf/layers/conv2d), you would want to use the TF Neural Network version of `conv2d`, [tf.nn.conv2d](https://www.tensorflow.org/api_docs/python/tf/nn/conv2d). \n",
    "\n",
    "Let's begin!\n",
    "\n",
    "### Input\n",
    "The neural network needs to read the image data, one-hot encoded labels, and dropout keep probability. Implement the following functions\n",
    "* Implement `neural_net_image_input`\n",
    " * Return a [TF Placeholder](https://www.tensorflow.org/api_docs/python/tf/placeholder)\n",
    " * Set the shape using `image_shape` with batch size set to `None`.\n",
    " * Name the TensorFlow placeholder \"x\" using the TensorFlow `name` parameter in the [TF Placeholder](https://www.tensorflow.org/api_docs/python/tf/placeholder).\n",
    "* Implement `neural_net_label_input`\n",
    " * Return a [TF Placeholder](https://www.tensorflow.org/api_docs/python/tf/placeholder)\n",
    " * Set the shape using `n_classes` with batch size set to `None`.\n",
    " * Name the TensorFlow placeholder \"y\" using the TensorFlow `name` parameter in the [TF Placeholder](https://www.tensorflow.org/api_docs/python/tf/placeholder).\n",
    "* Implement `neural_net_keep_prob_input`\n",
    " * Return a [TF Placeholder](https://www.tensorflow.org/api_docs/python/tf/placeholder) for dropout keep probability.\n",
    " * Name the TensorFlow placeholder \"keep_prob\" using the TensorFlow `name` parameter in the [TF Placeholder](https://www.tensorflow.org/api_docs/python/tf/placeholder).\n",
    "\n",
    "These names will be used at the end of the project to load your saved model.\n",
    "\n",
    "Note: `None` for shapes in TensorFlow allow for a dynamic size."
   ]
  },
  {
   "cell_type": "code",
   "execution_count": 7,
   "metadata": {},
   "outputs": [
    {
     "name": "stdout",
     "output_type": "stream",
     "text": [
      "Image Input Tests Passed.\n",
      "Label Input Tests Passed.\n",
      "Keep Prob Tests Passed.\n"
     ]
    }
   ],
   "source": [
    "import tensorflow as tf\n",
    "\n",
    "def neural_net_image_input(image_shape):\n",
    "    \"\"\"\n",
    "    Return a Tensor for a batch of image input\n",
    "    : image_shape: Shape of the images\n",
    "    : return: Tensor for image input.\n",
    "    \"\"\"\n",
    "    # TODO: Implement Function\n",
    "    s = [None, image_shape[0], image_shape[1], image_shape[2]]\n",
    "    x_p = tf.placeholder(tf.float32, shape= s, name = 'x') \n",
    "    return x_p\n",
    "\n",
    "\n",
    "def neural_net_label_input(n_classes):\n",
    "    \"\"\"\n",
    "    Return a Tensor for a batch of label input\n",
    "    : n_classes: Number of classes\n",
    "    : return: Tensor for label input.\n",
    "    \"\"\"\n",
    "    # TODO: Implement Function\n",
    "    s = [None, n_classes]\n",
    "    y_p = tf.placeholder(tf.float32, shape= s, name = 'y') \n",
    "    return y_p\n",
    "\n",
    "\n",
    "def neural_net_keep_prob_input():\n",
    "    \"\"\"\n",
    "    Return a Tensor for keep probability\n",
    "    : return: Tensor for keep probability.\n",
    "    \"\"\"\n",
    "    # TODO: Implement Function\n",
    "    y_p = tf.placeholder(tf.float32, shape= None, name = 'keep_prob') \n",
    "    return y_p\n",
    "\n",
    "\n",
    "\"\"\"\n",
    "DON'T MODIFY ANYTHING IN THIS CELL THAT IS BELOW THIS LINE\n",
    "\"\"\"\n",
    "tf.reset_default_graph()\n",
    "tests.test_nn_image_inputs(neural_net_image_input)\n",
    "tests.test_nn_label_inputs(neural_net_label_input)\n",
    "tests.test_nn_keep_prob_inputs(neural_net_keep_prob_input)"
   ]
  },
  {
   "cell_type": "markdown",
   "metadata": {},
   "source": [
    "### Convolution and Max Pooling Layer\n",
    "Convolution layers have a lot of success with images. For this code cell, you should implement the function `conv2d_maxpool` to apply convolution then max pooling:\n",
    "* Create the weight and bias using `conv_ksize`, `conv_num_outputs` and the shape of `x_tensor`.\n",
    "* Apply a convolution to `x_tensor` using weight and `conv_strides`.\n",
    " * We recommend you use same padding, but you're welcome to use any padding.\n",
    "* Add bias\n",
    "* Add a nonlinear activation to the convolution.\n",
    "* Apply Max Pooling using `pool_ksize` and `pool_strides`.\n",
    " * We recommend you use same padding, but you're welcome to use any padding.\n",
    "\n",
    "**Note:** You **can't** use [TensorFlow Layers](https://www.tensorflow.org/api_docs/python/tf/layers) or [TensorFlow Layers (contrib)](https://www.tensorflow.org/api_guides/python/contrib.layers) for **this** layer, but you can still use TensorFlow's [Neural Network](https://www.tensorflow.org/api_docs/python/tf/nn) package. You may still use the shortcut option for all the **other** layers."
   ]
  },
  {
   "cell_type": "code",
   "execution_count": 8,
   "metadata": {},
   "outputs": [
    {
     "name": "stdout",
     "output_type": "stream",
     "text": [
      "Tests Passed\n"
     ]
    }
   ],
   "source": [
    "\n",
    "def conv2d_maxpool(x_tensor, conv_num_outputs, conv_ksize, conv_strides, pool_ksize, pool_strides):\n",
    "    \"\"\"\n",
    "    Apply convolution then max pooling to x_tensor\n",
    "    :param x_tensor: TensorFlow Tensor\n",
    "    :param conv_num_outputs: Number of outputs for the convolutional layer\n",
    "    :param conv_ksize: kernal size 2-D Tuple for the convolutional layer\n",
    "    :param conv_strides: Stride 2-D Tuple for convolution\n",
    "    :param pool_ksize: kernal size 2-D Tuple for pool\n",
    "    :param pool_strides: Stride 2-D Tuple for pool\n",
    "    : return: A tensor that represents convolution and max pooling of x_tensor\n",
    "    \"\"\"\n",
    "    # TODO: Implement Function\n",
    "#     Create the weight and bias using conv_ksize, conv_num_outputs and the shape of x_tensor.\n",
    "\n",
    "    x_dim = x_tensor.get_shape().as_list()\n",
    "    inp_shape = [conv_ksize[0], conv_ksize[1], x_dim[3], conv_num_outputs]\n",
    "    # print(inp_shape)\n",
    "    \n",
    "    filter_weights = tf.Variable(tf.truncated_normal(inp_shape,0, stddev=0.1))\n",
    "    filter_bias = tf.Variable(tf.zeros(conv_num_outputs))\n",
    "    \n",
    "    conv_layer = tf.nn.conv2d(input = x_tensor,\n",
    "                              filter = filter_weights, \n",
    "                              strides = list((1,)+conv_strides+(1,)),\n",
    "                              padding = 'SAME',\n",
    "                              name= 'conv2d_x')\n",
    "    \n",
    "    conv_layer = tf.nn.bias_add(conv_layer, filter_bias)\n",
    "    conv_layer = tf.nn.relu(conv_layer)\n",
    "    \n",
    "    x_pool = tf.nn.max_pool(conv_layer, \n",
    "                            ksize = [1] + list(pool_ksize) + [1],\n",
    "                            strides = list((1,)+pool_strides+(1,)), \n",
    "                            padding = 'SAME', \n",
    "                            name = 'x_pool')\n",
    "    return x_pool \n",
    "\n",
    "\n",
    "\"\"\"\n",
    "DON'T MODIFY ANYTHING IN THIS CELL THAT IS BELOW THIS LINE\n",
    "\"\"\"\n",
    "tests.test_con_pool(conv2d_maxpool)"
   ]
  },
  {
   "cell_type": "markdown",
   "metadata": {},
   "source": [
    "### Flatten Layer\n",
    "Implement the `flatten` function to change the dimension of `x_tensor` from a 4-D tensor to a 2-D tensor.  The output should be the shape (*Batch Size*, *Flattened Image Size*). Shortcut option: you can use classes from the [TensorFlow Layers](https://www.tensorflow.org/api_docs/python/tf/layers) or [TensorFlow Layers (contrib)](https://www.tensorflow.org/api_guides/python/contrib.layers) packages for this layer. For more of a challenge, only use other TensorFlow packages."
   ]
  },
  {
   "cell_type": "code",
   "execution_count": 9,
   "metadata": {},
   "outputs": [
    {
     "name": "stdout",
     "output_type": "stream",
     "text": [
      "Tests Passed\n"
     ]
    }
   ],
   "source": [
    "from numpy import prod\n",
    "def flatten(x_tensor):\n",
    "    \"\"\"\n",
    "    Flatten x_tensor to (Batch Size, Flattened Image Size)\n",
    "    : x_tensor: A tensor of size (Batch Size, ...), where ... are the image dimensions.\n",
    "    : return: A tensor of size (Batch Size, Flattened Image Size).\n",
    "    \"\"\"\n",
    "    # TODO: Implement Function\n",
    "    x_dim = x_tensor.get_shape().as_list()    \n",
    "    # print(tf.reshape(x_tensor,[-1,prod(x_dim[1:])]))\n",
    "    return tf.reshape(x_tensor,[-1,prod(x_dim[1:])])\n",
    "\n",
    "\n",
    "\"\"\"\n",
    "DON'T MODIFY ANYTHING IN THIS CELL THAT IS BELOW THIS LINE\n",
    "\"\"\"\n",
    "tests.test_flatten(flatten)"
   ]
  },
  {
   "cell_type": "markdown",
   "metadata": {},
   "source": [
    "### Fully-Connected Layer\n",
    "Implement the `fully_conn` function to apply a fully connected layer to `x_tensor` with the shape (*Batch Size*, *num_outputs*). Shortcut option: you can use classes from the [TensorFlow Layers](https://www.tensorflow.org/api_docs/python/tf/layers) or [TensorFlow Layers (contrib)](https://www.tensorflow.org/api_guides/python/contrib.layers) packages for this layer. For more of a challenge, only use other TensorFlow packages."
   ]
  },
  {
   "cell_type": "code",
   "execution_count": 10,
   "metadata": {},
   "outputs": [
    {
     "name": "stdout",
     "output_type": "stream",
     "text": [
      "Tests Passed\n"
     ]
    }
   ],
   "source": [
    "def fully_conn(x_tensor, num_outputs):\n",
    "    \"\"\"\n",
    "    Apply a fully connected layer to x_tensor using weight and bias\n",
    "    : x_tensor: A 2-D tensor where the first dimension is batch size.\n",
    "    : num_outputs: The number of output that the new tensor should be.\n",
    "    : return: A 2-D tensor where the second dimension is num_outputs.\n",
    "    \"\"\"\n",
    "    # TODO: Implement Function\n",
    "    \n",
    "    x_dim = x_tensor.get_shape().as_list()\n",
    "    # print(x_dim, num_outputs)\n",
    "    inp_shape = [x_dim[-1], num_outputs]\n",
    "    fc_weights = tf.Variable(tf.truncated_normal(inp_shape,0, stddev=0.1))\n",
    "    fc_bias = tf.Variable(tf.zeros(num_outputs))\n",
    "    fc = tf.matmul(x_tensor,fc_weights)\n",
    "    fc = tf.nn.bias_add(fc,fc_bias)\n",
    "    \n",
    "    return tf.nn.relu(fc)\n",
    "\n",
    "\n",
    "\"\"\"\n",
    "DON'T MODIFY ANYTHING IN THIS CELL THAT IS BELOW THIS LINE\n",
    "\"\"\"\n",
    "tests.test_fully_conn(fully_conn)"
   ]
  },
  {
   "cell_type": "markdown",
   "metadata": {},
   "source": [
    "### Output Layer\n",
    "Implement the `output` function to apply a fully connected layer to `x_tensor` with the shape (*Batch Size*, *num_outputs*). Shortcut option: you can use classes from the [TensorFlow Layers](https://www.tensorflow.org/api_docs/python/tf/layers) or [TensorFlow Layers (contrib)](https://www.tensorflow.org/api_guides/python/contrib.layers) packages for this layer. For more of a challenge, only use other TensorFlow packages.\n",
    "\n",
    "**Note:** Activation, softmax, or cross entropy should **not** be applied to this."
   ]
  },
  {
   "cell_type": "code",
   "execution_count": 11,
   "metadata": {},
   "outputs": [
    {
     "name": "stdout",
     "output_type": "stream",
     "text": [
      "[None, 128] 40\n",
      "Tests Passed\n"
     ]
    }
   ],
   "source": [
    "def output(x_tensor, num_outputs):\n",
    "    \"\"\"\n",
    "    Apply a output layer to x_tensor using weight and bias\n",
    "    : x_tensor: A 2-D tensor where the first dimension is batch size.\n",
    "    : num_outputs: The number of output that the new tensor should be.\n",
    "    : return: A 2-D tensor where the second dimension is num_outputs.\n",
    "    \"\"\"\n",
    "    # TODO: Implement Function\n",
    "    x_dim = x_tensor.get_shape().as_list()\n",
    "    print(x_dim, num_outputs)\n",
    "    \n",
    "    inp_shape = [x_dim[-1], num_outputs]\n",
    "    o_weights = tf.Variable(tf.truncated_normal(inp_shape,0, stddev=0.1))\n",
    "    o_bias = tf.Variable(tf.zeros(num_outputs))\n",
    "    out = tf.matmul(x_tensor,o_weights)\n",
    "    out = tf.nn.bias_add(out,o_bias)\n",
    "    \n",
    "    \n",
    "    return out\n",
    "\n",
    "\n",
    "\"\"\"\n",
    "DON'T MODIFY ANYTHING IN THIS CELL THAT IS BELOW THIS LINE\n",
    "\"\"\"\n",
    "tests.test_output(output)"
   ]
  },
  {
   "cell_type": "markdown",
   "metadata": {},
   "source": [
    "### Create Convolutional Model\n",
    "Implement the function `conv_net` to create a convolutional neural network model. The function takes in a batch of images, `x`, and outputs logits.  Use the layers you created above to create this model:\n",
    "\n",
    "* Apply 1, 2, or 3 Convolution and Max Pool layers\n",
    "* Apply a Flatten Layer\n",
    "* Apply 1, 2, or 3 Fully Connected Layers\n",
    "* Apply an Output Layer\n",
    "* Return the output\n",
    "* Apply [TensorFlow's Dropout](https://www.tensorflow.org/api_docs/python/tf/nn/dropout) to one or more layers in the model using `keep_prob`. "
   ]
  },
  {
   "cell_type": "code",
   "execution_count": 12,
   "metadata": {},
   "outputs": [
    {
     "name": "stdout",
     "output_type": "stream",
     "text": [
      "Tensor(\"x_pool:0\", shape=(?, 32, 32, 18), dtype=float32)\n",
      "Tensor(\"Reshape:0\", shape=(?, 18432), dtype=float32)\n",
      "[None, 384] 10\n",
      "Tensor(\"x_pool_1:0\", shape=(?, 32, 32, 18), dtype=float32)\n",
      "Tensor(\"Reshape_4:0\", shape=(?, 18432), dtype=float32)\n",
      "[None, 384] 10\n",
      "Neural Network Built!\n"
     ]
    }
   ],
   "source": [
    "def conv_net(x, keep_prob):\n",
    "    \"\"\"\n",
    "    Create a convolutional neural network model\n",
    "    : x: Placeholder tensor that holds image data.\n",
    "    : keep_prob: Placeholder tensor that hold dropout keep probability.\n",
    "    : return: Tensor that represents logits\n",
    "    \"\"\"\n",
    "    # TODO: Apply 1, 2, or 3 Convolution and Max Pool layers\n",
    "    #    Play around with different number of outputs, kernel size and stride\n",
    "    # Function Definition from Above:\n",
    "    #    conv2d_maxpool(x_tensor, conv_num_outputs, conv_ksize, conv_strides, pool_ksize, pool_strides)\n",
    "    # test_x = tf.placeholder(tf.float32, [None, 32, 32, 5])\n",
    "    conv_num_outputs = 18\n",
    "    \n",
    "    conv2d_maxpool_out = conv2d_maxpool(x, conv_num_outputs, \n",
    "                                        conv_ksize = (4, 4), \n",
    "                                        conv_strides = (1, 1),\n",
    "                                        pool_ksize = (4, 4), \n",
    "                                        pool_strides = (1, 1))\n",
    "    print(conv2d_maxpool_out)\n",
    "    # TODO: Apply a Flatten Layer\n",
    "    # Function Definition from Above:\n",
    "    #   flatten(x_tensor)\n",
    "    conv2d_maxpool_out = tf.nn.dropout(conv2d_maxpool_out, keep_prob)\n",
    "    flatten_out = flatten(conv2d_maxpool_out)\n",
    "    print(flatten_out)\n",
    "\n",
    "    # TODO: Apply 1, 2, or 3 Fully Connected Layers\n",
    "    #    Play around with different number of outputs\n",
    "    # Function Definition from Above:\n",
    "    #   fully_conn(x_tensor, num_outputs)\n",
    "    num_outputs = 384\n",
    "    # flatten_out = tf.nn.dropout(flatten_out, keep_prob)\n",
    "    fully_conn_out = fully_conn(flatten_out, num_outputs)\n",
    "    fully_conn_out = tf.nn.dropout(fully_conn_out, keep_prob)\n",
    "    # TODO: Apply an Output Layer\n",
    "    #    Set this to the number of classes\n",
    "    # Function Definition from Above:\n",
    "    #   output(x_tensor, num_outputs)\n",
    "    \n",
    "    out = output(fully_conn_out, num_outputs = 10)\n",
    "    # TODO: return output\n",
    "    return out\n",
    "\n",
    "\n",
    "\"\"\"\n",
    "DON'T MODIFY ANYTHING IN THIS CELL THAT IS BELOW THIS LINE\n",
    "\"\"\"\n",
    "\n",
    "##############################\n",
    "## Build the Neural Network ##\n",
    "##############################\n",
    "\n",
    "# Remove previous weights, bias, inputs, etc..\n",
    "tf.reset_default_graph()\n",
    "\n",
    "# Inputs\n",
    "x = neural_net_image_input((32, 32, 3))\n",
    "y = neural_net_label_input(10)\n",
    "keep_prob = neural_net_keep_prob_input()\n",
    "\n",
    "# Model\n",
    "logits = conv_net(x, keep_prob)\n",
    "\n",
    "# Name logits Tensor, so that is can be loaded from disk after training\n",
    "logits = tf.identity(logits, name='logits')\n",
    "\n",
    "# Loss and Optimizer\n",
    "cost = tf.reduce_mean(tf.nn.softmax_cross_entropy_with_logits(logits=logits, labels=y))\n",
    "optimizer = tf.train.AdamOptimizer().minimize(cost)\n",
    "\n",
    "# Accuracy\n",
    "correct_pred = tf.equal(tf.argmax(logits, 1), tf.argmax(y, 1))\n",
    "accuracy = tf.reduce_mean(tf.cast(correct_pred, tf.float32), name='accuracy')\n",
    "\n",
    "tests.test_conv_net(conv_net)"
   ]
  },
  {
   "cell_type": "markdown",
   "metadata": {},
   "source": [
    "## Train the Neural Network\n",
    "### Single Optimization\n",
    "Implement the function `train_neural_network` to do a single optimization.  The optimization should use `optimizer` to optimize in `session` with a `feed_dict` of the following:\n",
    "* `x` for image input\n",
    "* `y` for labels\n",
    "* `keep_prob` for keep probability for dropout\n",
    "\n",
    "This function will be called for each batch, so `tf.global_variables_initializer()` has already been called.\n",
    "\n",
    "Note: Nothing needs to be returned. This function is only optimizing the neural network."
   ]
  },
  {
   "cell_type": "code",
   "execution_count": 13,
   "metadata": {},
   "outputs": [
    {
     "name": "stdout",
     "output_type": "stream",
     "text": [
      "Tests Passed\n"
     ]
    }
   ],
   "source": [
    "def train_neural_network(session, optimizer, keep_probability, feature_batch, label_batch):\n",
    "    \"\"\"\n",
    "    Optimize the session on a batch of images and labels\n",
    "    : session: Current TensorFlow session\n",
    "    : optimizer: TensorFlow optimizer function\n",
    "    : keep_probability: keep probability\n",
    "    : feature_batch: Batch of Numpy image data\n",
    "    : label_batch: Batch of Numpy label data\n",
    "    \"\"\"\n",
    "    # TODO: Implement Function\n",
    "    # Model\n",
    "    session.run(optimizer, feed_dict={x:feature_batch, y:label_batch, keep_prob:keep_probability})\n",
    "\n",
    "\n",
    "\"\"\"\n",
    "DON'T MODIFY ANYTHING IN THIS CELL THAT IS BELOW THIS LINE\n",
    "\"\"\"\n",
    "tests.test_train_nn(train_neural_network)"
   ]
  },
  {
   "cell_type": "markdown",
   "metadata": {},
   "source": [
    "### Show Stats\n",
    "Implement the function `print_stats` to print loss and validation accuracy.  Use the global variables `valid_features` and `valid_labels` to calculate validation accuracy.  Use a keep probability of `1.0` to calculate the loss and validation accuracy."
   ]
  },
  {
   "cell_type": "code",
   "execution_count": 32,
   "metadata": {},
   "outputs": [],
   "source": [
    "def print_stats(session, feature_batch, label_batch, cost, accuracy):\n",
    "    \"\"\"\n",
    "    Print information about loss and validation accuracy\n",
    "    : session: Current TensorFlow session\n",
    "    : feature_batch: Batch of Numpy image data\n",
    "    : label_batch: Batch of Numpy label data\n",
    "    : cost: TensorFlow cost function\n",
    "    : accuracy: TensorFlow accuracy function\n",
    "    \"\"\"\n",
    "    # TODO: Implement Function\n",
    "    loss = session.run(cost, feed_dict={x:feature_batch, y:label_batch, keep_prob:1.0})\n",
    "    valid_acc = sess.run(accuracy, feed_dict={\n",
    "                x: valid_features,\n",
    "                y: valid_labels,\n",
    "                keep_prob: 1.})\n",
    "    print('Loss: {:>10.4f} Validation Accuracy: {:.6f}'.format(\n",
    "                loss,\n",
    "                valid_acc))\n"
   ]
  },
  {
   "cell_type": "markdown",
   "metadata": {},
   "source": [
    "### Hyperparameters\n",
    "Tune the following parameters:\n",
    "* Set `epochs` to the number of iterations until the network stops learning or start overfitting\n",
    "* Set `batch_size` to the highest number that your machine has memory for.  Most people set them to common sizes of memory:\n",
    " * 64\n",
    " * 128\n",
    " * 256\n",
    " * ...\n",
    "* Set `keep_probability` to the probability of keeping a node using dropout"
   ]
  },
  {
   "cell_type": "code",
   "execution_count": 33,
   "metadata": {
    "collapsed": true
   },
   "outputs": [],
   "source": [
    "# TODO: Tune Parameters\n",
    "epochs = 100\n",
    "batch_size = 512\n",
    "keep_probability = 0.5"
   ]
  },
  {
   "cell_type": "markdown",
   "metadata": {},
   "source": [
    "### Train on a Single CIFAR-10 Batch\n",
    "Instead of training the neural network on all the CIFAR-10 batches of data, let's use a single batch. This should save time while you iterate on the model to get a better accuracy.  Once the final validation accuracy is 50% or greater, run the model on all the data in the next section."
   ]
  },
  {
   "cell_type": "code",
   "execution_count": null,
   "metadata": {
    "collapsed": true
   },
   "outputs": [
    {
     "name": "stdout",
     "output_type": "stream",
     "text": [
      "Checking the Training on a Single Batch...\n",
      "Epoch  1, CIFAR-10 Batch 1:  Loss:     2.2835 Validation Accuracy: 0.150600\n",
      "Epoch  2, CIFAR-10 Batch 1:  Loss:     2.1650 Validation Accuracy: 0.244600\n",
      "Epoch  3, CIFAR-10 Batch 1:  Loss:     1.9909 Validation Accuracy: 0.297800\n",
      "Epoch  4, CIFAR-10 Batch 1:  Loss:     1.8833 Validation Accuracy: 0.353000\n",
      "Epoch  5, CIFAR-10 Batch 1:  Loss:     1.8033 Validation Accuracy: 0.382600\n",
      "Epoch  6, CIFAR-10 Batch 1:  Loss:     1.7226 Validation Accuracy: 0.400800\n",
      "Epoch  7, CIFAR-10 Batch 1:  Loss:     1.6605 Validation Accuracy: 0.430200\n",
      "Epoch  8, CIFAR-10 Batch 1:  Loss:     1.5758 Validation Accuracy: 0.443600\n",
      "Epoch  9, CIFAR-10 Batch 1:  Loss:     1.4982 Validation Accuracy: 0.463400\n",
      "Epoch 10, CIFAR-10 Batch 1:  Loss:     1.4406 Validation Accuracy: 0.473000\n",
      "Epoch 11, CIFAR-10 Batch 1:  Loss:     1.3502 Validation Accuracy: 0.492600\n",
      "Epoch 12, CIFAR-10 Batch 1:  Loss:     1.2805 Validation Accuracy: 0.505000\n",
      "Epoch 13, CIFAR-10 Batch 1:  Loss:     1.2573 Validation Accuracy: 0.508400\n",
      "Epoch 14, CIFAR-10 Batch 1:  Loss:     1.2119 Validation Accuracy: 0.513600\n",
      "Epoch 15, CIFAR-10 Batch 1:  Loss:     1.1630 Validation Accuracy: 0.535800\n",
      "Epoch 16, CIFAR-10 Batch 1:  Loss:     1.1158 Validation Accuracy: 0.534400\n",
      "Epoch 17, CIFAR-10 Batch 1:  Loss:     1.0586 Validation Accuracy: 0.543600\n",
      "Epoch 18, CIFAR-10 Batch 1:  Loss:     1.0158 Validation Accuracy: 0.544800\n",
      "Epoch 19, CIFAR-10 Batch 1:  Loss:     0.9831 Validation Accuracy: 0.547200\n",
      "Epoch 20, CIFAR-10 Batch 1:  Loss:     0.9264 Validation Accuracy: 0.558400\n",
      "Epoch 21, CIFAR-10 Batch 1:  Loss:     0.9082 Validation Accuracy: 0.566800\n",
      "Epoch 22, CIFAR-10 Batch 1:  Loss:     0.8863 Validation Accuracy: 0.555400\n",
      "Epoch 23, CIFAR-10 Batch 1:  Loss:     0.8608 Validation Accuracy: 0.559800\n",
      "Epoch 24, CIFAR-10 Batch 1:  Loss:     0.8082 Validation Accuracy: 0.563600\n",
      "Epoch 25, CIFAR-10 Batch 1:  Loss:     0.7744 Validation Accuracy: 0.572800\n",
      "Epoch 26, CIFAR-10 Batch 1:  Loss:     0.7626 Validation Accuracy: 0.567200\n",
      "Epoch 27, CIFAR-10 Batch 1:  Loss:     0.7125 Validation Accuracy: 0.576000\n",
      "Epoch 28, CIFAR-10 Batch 1:  Loss:     0.6867 Validation Accuracy: 0.578000\n",
      "Epoch 29, CIFAR-10 Batch 1:  Loss:     0.6735 Validation Accuracy: 0.579800\n",
      "Epoch 30, CIFAR-10 Batch 1:  Loss:     0.6694 Validation Accuracy: 0.574600\n",
      "Epoch 31, CIFAR-10 Batch 1:  Loss:     0.6389 Validation Accuracy: 0.580600\n",
      "Epoch 32, CIFAR-10 Batch 1:  Loss:     0.6019 Validation Accuracy: 0.586000\n",
      "Epoch 33, CIFAR-10 Batch 1:  Loss:     0.5729 Validation Accuracy: 0.590200\n",
      "Epoch 34, CIFAR-10 Batch 1:  Loss:     0.5562 Validation Accuracy: 0.584600\n",
      "Epoch 35, CIFAR-10 Batch 1:  Loss:     0.5538 Validation Accuracy: 0.583400\n",
      "Epoch 36, CIFAR-10 Batch 1:  Loss:     0.5118 Validation Accuracy: 0.586000\n",
      "Epoch 37, CIFAR-10 Batch 1:  Loss:     0.4875 Validation Accuracy: 0.586800\n",
      "Epoch 38, CIFAR-10 Batch 1:  Loss:     0.4864 Validation Accuracy: 0.587400\n",
      "Epoch 39, CIFAR-10 Batch 1:  Loss:     0.4467 Validation Accuracy: 0.594400\n",
      "Epoch 40, CIFAR-10 Batch 1:  Loss:     0.4445 Validation Accuracy: 0.584800\n",
      "Epoch 41, CIFAR-10 Batch 1:  Loss:     0.4242 Validation Accuracy: 0.589400\n",
      "Epoch 42, CIFAR-10 Batch 1:  Loss:     0.3909 Validation Accuracy: 0.595200\n",
      "Epoch 43, CIFAR-10 Batch 1:  Loss:     0.3773 Validation Accuracy: 0.597800\n",
      "Epoch 44, CIFAR-10 Batch 1:  Loss:     0.3842 Validation Accuracy: 0.595200\n",
      "Epoch 45, CIFAR-10 Batch 1:  Loss:     0.3299 Validation Accuracy: 0.597000\n",
      "Epoch 46, CIFAR-10 Batch 1:  Loss:     0.3527 Validation Accuracy: 0.595200\n",
      "Epoch 47, CIFAR-10 Batch 1:  Loss:     0.3087 Validation Accuracy: 0.601000\n",
      "Epoch 48, CIFAR-10 Batch 1:  Loss:     0.3015 Validation Accuracy: 0.589200\n",
      "Epoch 49, CIFAR-10 Batch 1:  Loss:     0.2888 Validation Accuracy: 0.598000\n",
      "Epoch 50, CIFAR-10 Batch 1:  Loss:     0.2706 Validation Accuracy: 0.605600\n",
      "Epoch 51, CIFAR-10 Batch 1:  Loss:     0.2527 Validation Accuracy: 0.597000\n",
      "Epoch 52, CIFAR-10 Batch 1:  Loss:     0.2419 Validation Accuracy: 0.600000\n",
      "Epoch 53, CIFAR-10 Batch 1:  Loss:     0.2304 Validation Accuracy: 0.594800\n",
      "Epoch 54, CIFAR-10 Batch 1:  Loss:     0.2181 Validation Accuracy: 0.602000\n",
      "Epoch 55, CIFAR-10 Batch 1:  Loss:     0.2155 Validation Accuracy: 0.598000\n",
      "Epoch 56, CIFAR-10 Batch 1:  Loss:     0.1960 Validation Accuracy: 0.605000\n",
      "Epoch 57, CIFAR-10 Batch 1:  Loss:     0.1941 Validation Accuracy: 0.607600\n",
      "Epoch 58, CIFAR-10 Batch 1:  Loss:     0.1688 Validation Accuracy: 0.610200\n",
      "Epoch 59, CIFAR-10 Batch 1:  Loss:     0.1693 Validation Accuracy: 0.604400\n",
      "Epoch 60, CIFAR-10 Batch 1:  Loss:     0.1588 Validation Accuracy: 0.609000\n",
      "Epoch 61, CIFAR-10 Batch 1:  Loss:     0.1547 Validation Accuracy: 0.606600\n",
      "Epoch 62, CIFAR-10 Batch 1:  Loss:     0.1414 Validation Accuracy: 0.607000\n",
      "Epoch 63, CIFAR-10 Batch 1:  Loss:     0.1512 Validation Accuracy: 0.601200\n",
      "Epoch 64, CIFAR-10 Batch 1:  Loss:     0.1214 Validation Accuracy: 0.607200\n",
      "Epoch 65, CIFAR-10 Batch 1:  Loss:     0.1259 Validation Accuracy: 0.604800\n",
      "Epoch 66, CIFAR-10 Batch 1:  Loss:     0.1258 Validation Accuracy: 0.608400\n",
      "Epoch 67, CIFAR-10 Batch 1:  Loss:     0.1164 Validation Accuracy: 0.608200\n",
      "Epoch 68, CIFAR-10 Batch 1:  Loss:     0.1061 Validation Accuracy: 0.607800\n",
      "Epoch 69, CIFAR-10 Batch 1:  Loss:     0.1002 Validation Accuracy: 0.608400\n",
      "Epoch 70, CIFAR-10 Batch 1:  Loss:     0.0972 Validation Accuracy: 0.611600\n",
      "Epoch 71, CIFAR-10 Batch 1:  Loss:     0.0838 Validation Accuracy: 0.607800\n",
      "Epoch 72, CIFAR-10 Batch 1:  Loss:     0.0860 Validation Accuracy: 0.608200\n",
      "Epoch 73, CIFAR-10 Batch 1:  Loss:     0.0822 Validation Accuracy: 0.606600\n",
      "Epoch 74, CIFAR-10 Batch 1:  Loss:     0.0787 Validation Accuracy: 0.608800\n",
      "Epoch 75, CIFAR-10 Batch 1:  Loss:     0.0776 Validation Accuracy: 0.607800\n",
      "Epoch 76, CIFAR-10 Batch 1:  Loss:     0.0681 Validation Accuracy: 0.611800\n",
      "Epoch 77, CIFAR-10 Batch 1:  Loss:     0.0623 Validation Accuracy: 0.617600\n",
      "Epoch 78, CIFAR-10 Batch 1:  Loss:     0.0601 Validation Accuracy: 0.614800\n",
      "Epoch 79, CIFAR-10 Batch 1:  Loss:     0.0529 Validation Accuracy: 0.608200\n",
      "Epoch 80, CIFAR-10 Batch 1:  Loss:     0.0521 Validation Accuracy: 0.614800\n",
      "Epoch 81, CIFAR-10 Batch 1:  Loss:     0.0514 Validation Accuracy: 0.614200\n",
      "Epoch 82, CIFAR-10 Batch 1:  Loss:     0.0437 Validation Accuracy: 0.615200\n",
      "Epoch 83, CIFAR-10 Batch 1:  Loss:     0.0548 Validation Accuracy: 0.612000\n",
      "Epoch 84, CIFAR-10 Batch 1:  Loss:     0.0516 Validation Accuracy: 0.616600\n",
      "Epoch 85, CIFAR-10 Batch 1:  Loss:     0.0474 Validation Accuracy: 0.612000\n",
      "Epoch 86, CIFAR-10 Batch 1:  Loss:     0.0438 Validation Accuracy: 0.612800\n",
      "Epoch 87, CIFAR-10 Batch 1:  Loss:     0.0406 Validation Accuracy: 0.610000\n",
      "Epoch 88, CIFAR-10 Batch 1:  Loss:     0.0361 Validation Accuracy: 0.618600\n",
      "Epoch 89, CIFAR-10 Batch 1:  Loss:     0.0348 Validation Accuracy: 0.618800\n",
      "Epoch 90, CIFAR-10 Batch 1:  Loss:     0.0356 Validation Accuracy: 0.612800\n",
      "Epoch 91, CIFAR-10 Batch 1:  Loss:     0.0342 Validation Accuracy: 0.614200\n",
      "Epoch 92, CIFAR-10 Batch 1:  Loss:     0.0316 Validation Accuracy: 0.615200\n",
      "Epoch 93, CIFAR-10 Batch 1:  Loss:     0.0290 Validation Accuracy: 0.617400\n",
      "Epoch 94, CIFAR-10 Batch 1:  Loss:     0.0288 Validation Accuracy: 0.619600\n",
      "Epoch 95, CIFAR-10 Batch 1:  Loss:     0.0288 Validation Accuracy: 0.616600\n",
      "Epoch 96, CIFAR-10 Batch 1:  Loss:     0.0237 Validation Accuracy: 0.615800\n",
      "Epoch 97, CIFAR-10 Batch 1:  Loss:     0.0248 Validation Accuracy: 0.613000\n",
      "Epoch 98, CIFAR-10 Batch 1:  Loss:     0.0236 Validation Accuracy: 0.617000\n",
      "Epoch 99, CIFAR-10 Batch 1:  Loss:     0.0228 Validation Accuracy: 0.617600\n",
      "Epoch 100, CIFAR-10 Batch 1:  Loss:     0.0218 Validation Accuracy: 0.614800\n"
     ]
    }
   ],
   "source": [
    "\"\"\"\n",
    "DON'T MODIFY ANYTHING IN THIS CELL\n",
    "\"\"\"\n",
    "print('Checking the Training on a Single Batch...')\n",
    "with tf.Session() as sess:\n",
    "    # Initializing the variables\n",
    "    sess.run(tf.global_variables_initializer())\n",
    "    \n",
    "    # Training cycle\n",
    "    for epoch in range(epochs):\n",
    "        batch_i = 1\n",
    "        for batch_features, batch_labels in helper.load_preprocess_training_batch(batch_i, batch_size):\n",
    "            train_neural_network(sess, optimizer, keep_probability, batch_features, batch_labels)\n",
    "        print('Epoch {:>2}, CIFAR-10 Batch {}:  '.format(epoch + 1, batch_i), end='')\n",
    "        print_stats(sess, batch_features, batch_labels, cost, accuracy)"
   ]
  },
  {
   "cell_type": "markdown",
   "metadata": {},
   "source": [
    "### Fully Train the Model\n",
    "Now that you got a good accuracy with a single CIFAR-10 batch, try it with all five batches."
   ]
  },
  {
   "cell_type": "code",
   "execution_count": null,
   "metadata": {},
   "outputs": [
    {
     "name": "stdout",
     "output_type": "stream",
     "text": [
      "Training...\n",
      "Epoch  1, CIFAR-10 Batch 1:  Loss:     2.2623 Validation Accuracy: 0.180600\n",
      "Epoch  1, CIFAR-10 Batch 2:  Loss:     2.1183 Validation Accuracy: 0.237800\n",
      "Epoch  1, CIFAR-10 Batch 3:  Loss:     1.9201 Validation Accuracy: 0.326800\n",
      "Epoch  1, CIFAR-10 Batch 4:  Loss:     1.8025 Validation Accuracy: 0.368600\n",
      "Epoch  1, CIFAR-10 Batch 5:  Loss:     1.7520 Validation Accuracy: 0.412400\n",
      "Epoch  2, CIFAR-10 Batch 1:  Loss:     1.6956 Validation Accuracy: 0.432000\n",
      "Epoch  2, CIFAR-10 Batch 2:  Loss:     1.5520 Validation Accuracy: 0.447200\n",
      "Epoch  2, CIFAR-10 Batch 3:  Loss:     1.4887 Validation Accuracy: 0.454200\n",
      "Epoch  2, CIFAR-10 Batch 4:  Loss:     1.4308 Validation Accuracy: 0.478600\n",
      "Epoch  2, CIFAR-10 Batch 5:  Loss:     1.4680 Validation Accuracy: 0.470600\n",
      "Epoch  3, CIFAR-10 Batch 1:  Loss:     1.5247 Validation Accuracy: 0.494400\n",
      "Epoch  3, CIFAR-10 Batch 2:  Loss:     1.3598 Validation Accuracy: 0.493600\n",
      "Epoch  3, CIFAR-10 Batch 3:  Loss:     1.2849 Validation Accuracy: 0.516800\n",
      "Epoch  3, CIFAR-10 Batch 4:  Loss:     1.2591 Validation Accuracy: 0.514400\n",
      "Epoch  3, CIFAR-10 Batch 5:  Loss:     1.2766 Validation Accuracy: 0.520200\n",
      "Epoch  4, CIFAR-10 Batch 1:  Loss:     1.3513 Validation Accuracy: 0.537800\n",
      "Epoch  4, CIFAR-10 Batch 2:  Loss:     1.2372 Validation Accuracy: 0.517200\n",
      "Epoch  4, CIFAR-10 Batch 3:  Loss:     1.1515 Validation Accuracy: 0.550800\n",
      "Epoch  4, CIFAR-10 Batch 4:  Loss:     1.1298 Validation Accuracy: 0.552000\n",
      "Epoch  4, CIFAR-10 Batch 5:  Loss:     1.1494 Validation Accuracy: 0.547400\n",
      "Epoch  5, CIFAR-10 Batch 1:  Loss:     1.2360 Validation Accuracy: 0.558000\n",
      "Epoch  5, CIFAR-10 Batch 2:  Loss:     1.1406 Validation Accuracy: 0.547600\n",
      "Epoch  5, CIFAR-10 Batch 3:  Loss:     1.0732 Validation Accuracy: 0.570400\n",
      "Epoch  5, CIFAR-10 Batch 4:  Loss:     1.0411 Validation Accuracy: 0.572800\n",
      "Epoch  5, CIFAR-10 Batch 5:  Loss:     1.0486 Validation Accuracy: 0.576000\n",
      "Epoch  6, CIFAR-10 Batch 1:  Loss:     1.1381 Validation Accuracy: 0.584200\n",
      "Epoch  6, CIFAR-10 Batch 2:  Loss:     1.0587 Validation Accuracy: 0.571200\n",
      "Epoch  6, CIFAR-10 Batch 3:  Loss:     1.0089 Validation Accuracy: 0.584200\n",
      "Epoch  6, CIFAR-10 Batch 4:  Loss:     0.9449 Validation Accuracy: 0.591200\n",
      "Epoch  6, CIFAR-10 Batch 5:  Loss:     0.9853 Validation Accuracy: 0.591400\n",
      "Epoch  7, CIFAR-10 Batch 1:  Loss:     1.0686 Validation Accuracy: 0.602000\n",
      "Epoch  7, CIFAR-10 Batch 2:  Loss:     0.9795 Validation Accuracy: 0.593600\n",
      "Epoch  7, CIFAR-10 Batch 3:  Loss:     0.9250 Validation Accuracy: 0.598400\n",
      "Epoch  7, CIFAR-10 Batch 4:  Loss:     0.8990 Validation Accuracy: 0.605000\n",
      "Epoch  7, CIFAR-10 Batch 5:  Loss:     0.9035 Validation Accuracy: 0.605600\n",
      "Epoch  8, CIFAR-10 Batch 1:  Loss:     1.0070 Validation Accuracy: 0.614200\n",
      "Epoch  8, CIFAR-10 Batch 2:  Loss:     0.9301 Validation Accuracy: 0.606000\n",
      "Epoch  8, CIFAR-10 Batch 3:  Loss:     0.8901 Validation Accuracy: 0.605600\n",
      "Epoch  8, CIFAR-10 Batch 4:  Loss:     0.8755 Validation Accuracy: 0.615000\n",
      "Epoch  8, CIFAR-10 Batch 5:  Loss:     0.8676 Validation Accuracy: 0.610200\n",
      "Epoch  9, CIFAR-10 Batch 1:  Loss:     0.9502 Validation Accuracy: 0.630000\n",
      "Epoch  9, CIFAR-10 Batch 2:  Loss:     0.8924 Validation Accuracy: 0.626000\n",
      "Epoch  9, CIFAR-10 Batch 3:  Loss:     0.8316 Validation Accuracy: 0.616600\n",
      "Epoch  9, CIFAR-10 Batch 4:  Loss:     0.8330 Validation Accuracy: 0.628000\n",
      "Epoch  9, CIFAR-10 Batch 5:  Loss:     0.8153 Validation Accuracy: 0.630600\n",
      "Epoch 10, CIFAR-10 Batch 1:  Loss:     0.9000 Validation Accuracy: 0.637600\n",
      "Epoch 10, CIFAR-10 Batch 2:  Loss:     0.8334 Validation Accuracy: 0.633000\n",
      "Epoch 10, CIFAR-10 Batch 3:  Loss:     0.7950 Validation Accuracy: 0.623000\n",
      "Epoch 10, CIFAR-10 Batch 4:  Loss:     0.7859 Validation Accuracy: 0.635800\n",
      "Epoch 10, CIFAR-10 Batch 5:  Loss:     0.7624 Validation Accuracy: 0.639200\n",
      "Epoch 11, CIFAR-10 Batch 1:  Loss:     0.8506 Validation Accuracy: 0.644800\n",
      "Epoch 11, CIFAR-10 Batch 2:  Loss:     0.7935 Validation Accuracy: 0.645000\n",
      "Epoch 11, CIFAR-10 Batch 3:  Loss:     0.7527 Validation Accuracy: 0.642800\n",
      "Epoch 11, CIFAR-10 Batch 4:  Loss:     0.7699 Validation Accuracy: 0.634600\n",
      "Epoch 11, CIFAR-10 Batch 5:  Loss:     0.7355 Validation Accuracy: 0.637200\n",
      "Epoch 12, CIFAR-10 Batch 1:  Loss:     0.8367 Validation Accuracy: 0.645600\n",
      "Epoch 12, CIFAR-10 Batch 2:  Loss:     0.7771 Validation Accuracy: 0.648000\n",
      "Epoch 12, CIFAR-10 Batch 3:  Loss:     0.7274 Validation Accuracy: 0.641200\n",
      "Epoch 12, CIFAR-10 Batch 4:  Loss:     0.7178 Validation Accuracy: 0.646800\n",
      "Epoch 12, CIFAR-10 Batch 5:  Loss:     0.6789 Validation Accuracy: 0.654200\n",
      "Epoch 13, CIFAR-10 Batch 1:  Loss:     0.7982 Validation Accuracy: 0.658200\n",
      "Epoch 13, CIFAR-10 Batch 2:  Loss:     0.7240 Validation Accuracy: 0.650800\n",
      "Epoch 13, CIFAR-10 Batch 3:  Loss:     0.6981 Validation Accuracy: 0.646200\n",
      "Epoch 13, CIFAR-10 Batch 4:  Loss:     0.6850 Validation Accuracy: 0.651400\n",
      "Epoch 13, CIFAR-10 Batch 5:  Loss:     0.6622 Validation Accuracy: 0.653000\n",
      "Epoch 14, CIFAR-10 Batch 1:  Loss:     0.7457 Validation Accuracy: 0.662000\n",
      "Epoch 14, CIFAR-10 Batch 2:  Loss:     0.7023 Validation Accuracy: 0.665800\n",
      "Epoch 14, CIFAR-10 Batch 3:  Loss:     0.6418 Validation Accuracy: 0.660800\n",
      "Epoch 14, CIFAR-10 Batch 4:  Loss:     0.6715 Validation Accuracy: 0.664600\n",
      "Epoch 14, CIFAR-10 Batch 5:  Loss:     0.6303 Validation Accuracy: 0.664600\n",
      "Epoch 15, CIFAR-10 Batch 1:  Loss:     0.7170 Validation Accuracy: 0.664800\n",
      "Epoch 15, CIFAR-10 Batch 2:  Loss:     0.6793 Validation Accuracy: 0.655200\n",
      "Epoch 15, CIFAR-10 Batch 3:  Loss:     0.6150 Validation Accuracy: 0.665600\n",
      "Epoch 15, CIFAR-10 Batch 4:  Loss:     0.6338 Validation Accuracy: 0.669000\n",
      "Epoch 15, CIFAR-10 Batch 5:  Loss:     0.6121 Validation Accuracy: 0.672200\n",
      "Epoch 16, CIFAR-10 Batch 1:  Loss:     0.6878 Validation Accuracy: 0.667600\n",
      "Epoch 16, CIFAR-10 Batch 2:  Loss:     0.6477 Validation Accuracy: 0.670600\n",
      "Epoch 16, CIFAR-10 Batch 3:  Loss:     0.5754 Validation Accuracy: 0.677000\n",
      "Epoch 16, CIFAR-10 Batch 4:  Loss:     0.6008 Validation Accuracy: 0.668400\n",
      "Epoch 16, CIFAR-10 Batch 5:  Loss:     0.5718 Validation Accuracy: 0.671000\n",
      "Epoch 17, CIFAR-10 Batch 1:  Loss:     0.6572 Validation Accuracy: 0.671200\n",
      "Epoch 17, CIFAR-10 Batch 2:  Loss:     0.6254 Validation Accuracy: 0.673200\n",
      "Epoch 17, CIFAR-10 Batch 3:  Loss:     0.5545 Validation Accuracy: 0.670400\n",
      "Epoch 17, CIFAR-10 Batch 4:  Loss:     0.5728 Validation Accuracy: 0.673000\n",
      "Epoch 17, CIFAR-10 Batch 5:  Loss:     0.5326 Validation Accuracy: 0.680800\n",
      "Epoch 18, CIFAR-10 Batch 1:  Loss:     0.6074 Validation Accuracy: 0.677400\n",
      "Epoch 18, CIFAR-10 Batch 2:  Loss:     0.6073 Validation Accuracy: 0.672200\n",
      "Epoch 18, CIFAR-10 Batch 3:  Loss:     0.5290 Validation Accuracy: 0.671800\n",
      "Epoch 18, CIFAR-10 Batch 4:  Loss:     0.5427 Validation Accuracy: 0.680400\n",
      "Epoch 18, CIFAR-10 Batch 5:  Loss:     0.5159 Validation Accuracy: 0.680400\n"
     ]
    }
   ],
   "source": [
    "\"\"\"\n",
    "DON'T MODIFY ANYTHING IN THIS CELL\n",
    "\"\"\"\n",
    "save_model_path = './image_classification'\n",
    "\n",
    "print('Training...')\n",
    "with tf.Session() as sess:\n",
    "    # Initializing the variables\n",
    "    sess.run(tf.global_variables_initializer())\n",
    "    \n",
    "    # Training cycle\n",
    "    for epoch in range(epochs):\n",
    "        # Loop over all batches\n",
    "        n_batches = 5\n",
    "        for batch_i in range(1, n_batches + 1):\n",
    "            for batch_features, batch_labels in helper.load_preprocess_training_batch(batch_i, batch_size):\n",
    "                train_neural_network(sess, optimizer, keep_probability, batch_features, batch_labels)\n",
    "            print('Epoch {:>2}, CIFAR-10 Batch {}:  '.format(epoch + 1, batch_i), end='')\n",
    "            print_stats(sess, batch_features, batch_labels, cost, accuracy)\n",
    "            \n",
    "    # Save Model\n",
    "    saver = tf.train.Saver()\n",
    "    save_path = saver.save(sess, save_model_path)"
   ]
  },
  {
   "cell_type": "markdown",
   "metadata": {},
   "source": [
    "# Checkpoint\n",
    "The model has been saved to disk.\n",
    "## Test Model\n",
    "Test your model against the test dataset.  This will be your final accuracy. You should have an accuracy greater than 50%. If you don't, keep tweaking the model architecture and parameters."
   ]
  },
  {
   "cell_type": "code",
   "execution_count": null,
   "metadata": {},
   "outputs": [],
   "source": [
    "\"\"\"\n",
    "DON'T MODIFY ANYTHING IN THIS CELL\n",
    "\"\"\"\n",
    "%matplotlib inline\n",
    "%config InlineBackend.figure_format = 'retina'\n",
    "\n",
    "import tensorflow as tf\n",
    "import pickle\n",
    "import helper\n",
    "import random\n",
    "\n",
    "# Set batch size if not already set\n",
    "try:\n",
    "    if batch_size:\n",
    "        pass\n",
    "except NameError:\n",
    "    batch_size = 64\n",
    "\n",
    "save_model_path = './image_classification'\n",
    "n_samples = 4\n",
    "top_n_predictions = 3\n",
    "\n",
    "def test_model():\n",
    "    \"\"\"\n",
    "    Test the saved model against the test dataset\n",
    "    \"\"\"\n",
    "\n",
    "    test_features, test_labels = pickle.load(open('preprocess_test.p', mode='rb'))\n",
    "    loaded_graph = tf.Graph()\n",
    "\n",
    "    with tf.Session(graph=loaded_graph) as sess:\n",
    "        # Load model\n",
    "        loader = tf.train.import_meta_graph(save_model_path + '.meta')\n",
    "        loader.restore(sess, save_model_path)\n",
    "\n",
    "        # Get Tensors from loaded model\n",
    "        loaded_x = loaded_graph.get_tensor_by_name('x:0')\n",
    "        loaded_y = loaded_graph.get_tensor_by_name('y:0')\n",
    "        loaded_keep_prob = loaded_graph.get_tensor_by_name('keep_prob:0')\n",
    "        loaded_logits = loaded_graph.get_tensor_by_name('logits:0')\n",
    "        loaded_acc = loaded_graph.get_tensor_by_name('accuracy:0')\n",
    "        \n",
    "        # Get accuracy in batches for memory limitations\n",
    "        test_batch_acc_total = 0\n",
    "        test_batch_count = 0\n",
    "        \n",
    "        for test_feature_batch, test_label_batch in helper.batch_features_labels(test_features, test_labels, batch_size):\n",
    "            test_batch_acc_total += sess.run(\n",
    "                loaded_acc,\n",
    "                feed_dict={loaded_x: test_feature_batch, loaded_y: test_label_batch, loaded_keep_prob: 1.0})\n",
    "            test_batch_count += 1\n",
    "\n",
    "        print('Testing Accuracy: {}\\n'.format(test_batch_acc_total/test_batch_count))\n",
    "\n",
    "        # Print Random Samples\n",
    "        random_test_features, random_test_labels = tuple(zip(*random.sample(list(zip(test_features, test_labels)), n_samples)))\n",
    "        random_test_predictions = sess.run(\n",
    "            tf.nn.top_k(tf.nn.softmax(loaded_logits), top_n_predictions),\n",
    "            feed_dict={loaded_x: random_test_features, loaded_y: random_test_labels, loaded_keep_prob: 1.0})\n",
    "        helper.display_image_predictions(random_test_features, random_test_labels, random_test_predictions)\n",
    "\n",
    "\n",
    "test_model()"
   ]
  },
  {
   "cell_type": "markdown",
   "metadata": {},
   "source": [
    "## Why 50-80% Accuracy?\n",
    "You might be wondering why you can't get an accuracy any higher. First things first, 50% isn't bad for a simple CNN.  Pure guessing would get you 10% accuracy. However, you might notice people are getting scores [well above 80%](http://rodrigob.github.io/are_we_there_yet/build/classification_datasets_results.html#43494641522d3130).  That's because we haven't taught you all there is to know about neural networks. We still need to cover a few more techniques.\n",
    "## Submitting This Project\n",
    "When submitting this project, make sure to run all the cells before saving the notebook.  Save the notebook file as \"dlnd_image_classification.ipynb\" and save it as a HTML file under \"File\" -> \"Download as\".  Include the \"helper.py\" and \"problem_unittests.py\" files in your submission."
   ]
  },
  {
   "cell_type": "code",
   "execution_count": null,
   "metadata": {
    "collapsed": true
   },
   "outputs": [],
   "source": []
  },
  {
   "cell_type": "code",
   "execution_count": null,
   "metadata": {
    "collapsed": true
   },
   "outputs": [],
   "source": []
  },
  {
   "cell_type": "code",
   "execution_count": null,
   "metadata": {
    "collapsed": true
   },
   "outputs": [],
   "source": []
  }
 ],
 "metadata": {
  "kernelspec": {
   "display_name": "Python 3",
   "language": "python",
   "name": "python3"
  },
  "language_info": {
   "codemirror_mode": {
    "name": "ipython",
    "version": 3
   },
   "file_extension": ".py",
   "mimetype": "text/x-python",
   "name": "python",
   "nbconvert_exporter": "python",
   "pygments_lexer": "ipython3",
   "version": "3.6.2"
  }
 },
 "nbformat": 4,
 "nbformat_minor": 1
}
